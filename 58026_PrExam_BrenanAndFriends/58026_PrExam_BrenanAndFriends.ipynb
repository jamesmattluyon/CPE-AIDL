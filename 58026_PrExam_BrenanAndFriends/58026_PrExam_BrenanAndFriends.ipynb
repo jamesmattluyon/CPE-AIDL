{
  "nbformat": 4,
  "nbformat_minor": 0,
  "metadata": {
    "colab": {
      "name": "58026_PrExam_BrenanAndFriends.ipynb",
      "provenance": [],
      "collapsed_sections": [],
      "include_colab_link": true
    },
    "kernelspec": {
      "name": "python3",
      "display_name": "Python 3"
    },
    "language_info": {
      "name": "python"
    }
  },
  "cells": [
    {
      "cell_type": "markdown",
      "metadata": {
        "id": "view-in-github",
        "colab_type": "text"
      },
      "source": [
        "<a href=\"https://colab.research.google.com/github/jamesmattluyon/CPE-AIDL/blob/main/58026_PrExam_BrenanAndFriends/58026_PrExam_BrenanAndFriends.ipynb\" target=\"_parent\"><img src=\"https://colab.research.google.com/assets/colab-badge.svg\" alt=\"Open In Colab\"/></a>"
      ]
    },
    {
      "cell_type": "markdown",
      "source": [
        "## DL Problem Set Computational Programming Proof"
      ],
      "metadata": {
        "id": "fXwNjeBSRBqm"
      }
    },
    {
      "cell_type": "markdown",
      "source": [
        "###Perceptron Algorithm Script"
      ],
      "metadata": {
        "id": "W1a2jWtnRM9k"
      }
    },
    {
      "cell_type": "code",
      "source": [
        "import numpy as np\n",
        "import matplotlib.pyplot as plt\n",
        "%matplotlib inline"
      ],
      "metadata": {
        "id": "0KGvEDhcZXvN"
      },
      "execution_count": null,
      "outputs": []
    },
    {
      "cell_type": "markdown",
      "source": [
        ">In preparation for perceptron algorithm, the least square method will be used\n"
      ],
      "metadata": {
        "id": "BXNXUz3vmOXf"
      }
    },
    {
      "cell_type": "code",
      "source": [
        "def activation_function(y):\n",
        "    if y > 0:\n",
        "        y = 1\n",
        "    elif y <= 0:\n",
        "        y = 0\n",
        "    return y\n",
        "\n",
        "W = np.array([-1, -1])\n",
        "b = 1\n",
        "\n",
        "\n",
        "def perceptron_algorithm(x):\n",
        "    y = np.dot(W, x) + b\n",
        "    y = activation_function(y)\n",
        "    return y\n",
        "\n",
        "# Input values to verify the NOR logic \n",
        "input1 = np.array([0, 0])\n",
        "input2 = np.array([0, 1])\n",
        "input3 = np.array([1, 0])\n",
        "input4 = np.array([1, 1])\n",
        "\n",
        "# Printing the results\n",
        "print('NOR Logic: \\n')\n",
        "print(f'x1 = 0 and x2 = 0 => y = {perceptron_algorithm(input1)}')\n",
        "print(f'x1 = 0 and x2 = 1 => y = {perceptron_algorithm(input2)}')\n",
        "print(f'x1 = 1 and x2 = 0 => y = {perceptron_algorithm(input3)}')\n",
        "print(f'x1 = 1 and x2 = 1 => y = {perceptron_algorithm(input4)}')"
      ],
      "metadata": {
        "colab": {
          "base_uri": "https://localhost:8080/"
        },
        "id": "n2RdWU2caJj9",
        "outputId": "2c8f0d7c-a973-4201-b3f5-cc0dfe6d9d6e"
      },
      "execution_count": null,
      "outputs": [
        {
          "output_type": "stream",
          "name": "stdout",
          "text": [
            "NOR Logic: \n",
            "\n",
            "x1 = 0 and x2 = 0 => y = 1\n",
            "x1 = 0 and x2 = 1 => y = 0\n",
            "x1 = 1 and x2 = 0 => y = 0\n",
            "x1 = 1 and x2 = 1 => y = 0\n"
          ]
        }
      ]
    },
    {
      "cell_type": "code",
      "source": [
        "X = np.array([[1,0,0],\n",
        " [1,0,1],\n",
        " [1,1,0 ],\n",
        " [1,1,1]])\n",
        "\n",
        "y=np.array([[0],\n",
        " [0],\n",
        " [0],\n",
        " [1]])"
      ],
      "metadata": {
        "id": "zoswCg95duSC"
      },
      "execution_count": null,
      "outputs": []
    },
    {
      "cell_type": "code",
      "source": [
        "def sigmoid_func(x):\n",
        " y=1+np.exp(-x)\n",
        " y=1/y\n",
        " return y\n",
        "\n",
        "def fwd_pass(X_training, wt1, wt2):\n",
        "  a1=np.matmul(X_training,wt1)\n",
        "  z1=sigmoid_func(a1)\n",
        "  len_z1=len(z1)\n",
        "  b=np.ones((len_z1,1))\n",
        "  z1=np.concatenate((b,z1),axis=1)\n",
        "  a2=np.matmul(z1,wt2)\n",
        "  z2=sigmoid_func(a2)\n",
        "  return a1,z1,a2,z2\n",
        "\n",
        "def back_propagation(a2, z0, z1, z2, y):\n",
        "  diff2 = z2-y\n",
        "  Derivative2=np.matmul(z1.T,diff2)\n",
        "  diff1=(diff2.dot(w2[1:,:].T ))*sigmoid_func(a1)*(1-sigmoid_func(a1))\n",
        "  Derivative1=np.matmul(z0.T,diff1)\n",
        "  return diff2,Derivative1, Derivative2\n",
        "\n",
        "def updateWeights(Derivative1,Derivative2,learning_rate,m,w1,w2):\n",
        "  change_in_w1= learning_rate*(1/m)*Derivative1\n",
        "  w1=w1 - change_in_w1\n",
        "  change_in_w2= learning_rate*(1/m)*Derivative2\n",
        "  w2= w2 - change_in_w2\n",
        "  return w1,w2\n",
        "\n",
        "def predict(X_test,weight1,weight2):\n",
        "  a1,z1,a2,z2=fwd_pass(X_test,weight1,weight2)\n",
        "  return z2\n",
        "\n",
        "def test(X_test,y_test): \n",
        "  y_predicted=predict(X_test,w1,w2)\n",
        "  print(\"Test set is :\")\n",
        "  print(X_test[:,1:])\n",
        "  print(\"\\nPredicted values for Test set are\")\n",
        "  print(np.round(y_predicted))\n",
        "  print(\"\\n And actual y values for test set are\")\n",
        "  print(y_test)"
      ],
      "metadata": {
        "id": "KAdC4HxKbDx2"
      },
      "execution_count": null,
      "outputs": []
    },
    {
      "cell_type": "code",
      "source": [
        "w1=np.random.randn(3,5)\n",
        "w2=np.random.randn(6,1)\n",
        "learning_rate=0.05\n",
        "costs=[]\n",
        "num_epoch=10000"
      ],
      "metadata": {
        "id": "LJqOIavObsXc"
      },
      "execution_count": null,
      "outputs": []
    },
    {
      "cell_type": "code",
      "source": [
        "m=len(X)\n",
        "for i in range(num_epoch):\n",
        "  a1,z1,a2,z2=fwd_pass(X,w1,w2)\n",
        "  diff2, Derivative1,Derivative2 = back_propagation(a2,X,z1,z2,y)\n",
        "  w1,w2= updateWeights(Derivative1,Derivative2,learning_rate,m,w1,w2)\n",
        "  cost_i=np.mean(np.abs(diff2))\n",
        "  costs.append(cost_i)\n",
        "  if i == 0 or i==num_epoch-1:\n",
        "    print(\"In Iteration: \"+ str(i+1))\n",
        "    print(\"the error is : \"+ str(cost_i) + \"\\n\")"
      ],
      "metadata": {
        "colab": {
          "base_uri": "https://localhost:8080/"
        },
        "id": "pZZP4MPPbtec",
        "outputId": "b17df1d1-6cdb-4be0-de41-0e1fda527b71"
      },
      "execution_count": null,
      "outputs": [
        {
          "output_type": "stream",
          "name": "stdout",
          "text": [
            "In Iterartion: 1\n",
            "the error is : 0.008350925447025249\n",
            "\n",
            "In Iterartion: 10000\n",
            "the error is : 0.0033482927429435475\n",
            "\n"
          ]
        }
      ]
    },
    {
      "cell_type": "code",
      "source": [
        "w1"
      ],
      "metadata": {
        "colab": {
          "base_uri": "https://localhost:8080/"
        },
        "id": "6IK4pUcBjfkK",
        "outputId": "a2720953-db97-4b80-fd6f-638264c1842f"
      },
      "execution_count": null,
      "outputs": [
        {
          "output_type": "execute_result",
          "data": {
            "text/plain": [
              "array([[ 2.99518521,  2.9923514 ,  4.11303457,  2.67195011,  0.01770978],\n",
              "       [-1.59871539, -2.06833394, -2.77610206,  1.09318819,  4.275738  ],\n",
              "       [-3.32874615, -2.66253447, -3.30764875,  0.44471712, -1.37274434]])"
            ]
          },
          "metadata": {},
          "execution_count": 40
        }
      ]
    },
    {
      "cell_type": "code",
      "source": [
        "w2"
      ],
      "metadata": {
        "colab": {
          "base_uri": "https://localhost:8080/"
        },
        "id": "jSZUcSRZjlA2",
        "outputId": "48c4c0ba-5784-4ee4-ca4b-321993a327c9"
      },
      "execution_count": null,
      "outputs": [
        {
          "output_type": "execute_result",
          "data": {
            "text/plain": [
              "array([[ 2.64911437],\n",
              "       [-5.45859144],\n",
              "       [-4.66999649],\n",
              "       [-6.54119693],\n",
              "       [-0.14148399],\n",
              "       [ 4.84036711]])"
            ]
          },
          "metadata": {},
          "execution_count": 41
        }
      ]
    },
    {
      "cell_type": "markdown",
      "source": [
        ""
      ],
      "metadata": {
        "id": "-b8XF6LknYo4"
      }
    },
    {
      "cell_type": "code",
      "source": [
        "updateWeights(Derivative1,Derivative2,learning_rate,m,w1,w2)"
      ],
      "metadata": {
        "colab": {
          "base_uri": "https://localhost:8080/"
        },
        "id": "m4sEtcK1j-dc",
        "outputId": "78d5aecc-ae29-4ad4-e897-4fcadaa6d367"
      },
      "execution_count": null,
      "outputs": [
        {
          "output_type": "execute_result",
          "data": {
            "text/plain": [
              "(array([[ 2.99521038,  2.99237528,  4.11306232,  2.67195025,  0.01770388],\n",
              "        [-1.59873091, -2.06834489, -2.77611709,  1.09318814,  4.27575649],\n",
              "        [-3.32876049, -2.6625538 , -3.30767   ,  0.44471711, -1.37274709]]),\n",
              " array([[ 2.64912927],\n",
              "        [-5.4586293 ],\n",
              "        [-4.67003339],\n",
              "        [-6.54124312],\n",
              "        [-0.14146809],\n",
              "        [ 4.84040239]]))"
            ]
          },
          "metadata": {},
          "execution_count": 42
        }
      ]
    },
    {
      "cell_type": "code",
      "source": [
        "fwd_pass(X,w1,w2)"
      ],
      "metadata": {
        "id": "-CdjevY7kHvD",
        "outputId": "4fe27af9-5a31-4ca2-a0c3-1aea728095cd",
        "colab": {
          "base_uri": "https://localhost:8080/"
        }
      },
      "execution_count": null,
      "outputs": [
        {
          "output_type": "execute_result",
          "data": {
            "text/plain": [
              "(array([[ 2.99518521,  2.9923514 ,  4.11303457,  2.67195011,  0.01770978],\n",
              "        [-0.33356094,  0.32981693,  0.80538582,  3.11666724, -1.35503456],\n",
              "        [ 1.39646982,  0.92401746,  1.33693251,  3.7651383 ,  4.29344778],\n",
              "        [-1.93227633, -1.73851701, -1.97071624,  4.20985542,  2.92070344]]),\n",
              " array([[1.        , 0.95235614, 0.95222739, 0.98390522, 0.93535105,\n",
              "         0.50442733],\n",
              "        [1.        , 0.41737444, 0.58171483, 0.69112538, 0.95757504,\n",
              "         0.2050485 ],\n",
              "        [1.        , 0.8016231 , 0.71585998, 0.79198504, 0.97736003,\n",
              "         0.98652627],\n",
              "        [1.        , 0.12649884, 0.1495014 , 0.12231198, 0.98536874,\n",
              "         0.94886044]]),\n",
              " array([[-11.12294879],\n",
              "        [ -6.00952714],\n",
              "        [ -5.61334388],\n",
              "        [  4.91379014]]),\n",
              " array([[1.47692453e-05],\n",
              "        [2.44923541e-03],\n",
              "        [3.63558194e-03],\n",
              "        [9.92708951e-01]]))"
            ]
          },
          "metadata": {},
          "execution_count": 43
        }
      ]
    },
    {
      "cell_type": "code",
      "source": [
        "back_propagation(a2,X,z1,z2,y)"
      ],
      "metadata": {
        "id": "ThJB_rv5kJTr",
        "outputId": "fa038c18-8c49-4fd2-eafe-c5a64aa9b69e",
        "colab": {
          "base_uri": "https://localhost:8080/"
        }
      },
      "execution_count": null,
      "outputs": [
        {
          "output_type": "execute_result",
          "data": {
            "text/plain": [
              "(array([[ 1.47732510e-05],\n",
              "        [ 2.44972860e-03],\n",
              "        [ 3.63625202e-03],\n",
              "        [-7.29241710e-03]]),\n",
              " array([[-2.01332969e-03, -1.91068985e-03, -2.21996386e-03,\n",
              "         -1.07157756e-05,  4.71841221e-04],\n",
              "        [ 1.24203813e-03,  8.76121012e-04,  1.20228632e-03,\n",
              "          3.49116799e-06, -1.47889327e-03],\n",
              "        [ 1.14681259e-03,  1.54657569e-03,  1.70017999e-03,\n",
              "          7.94534104e-07,  2.20003887e-04]]),\n",
              " array([[-0.00119166],\n",
              "        [ 0.0030289 ],\n",
              "        [ 0.00295188],\n",
              "        [ 0.00369546],\n",
              "        [-0.00127218],\n",
              "        [-0.00282244]]))"
            ]
          },
          "metadata": {},
          "execution_count": 44
        }
      ]
    },
    {
      "cell_type": "code",
      "source": [
        "predict(X,w1,w2)"
      ],
      "metadata": {
        "colab": {
          "base_uri": "https://localhost:8080/"
        },
        "id": "DOBv2Rcmkf36",
        "outputId": "01be2f4e-9eac-433e-e742-3193f5584d38"
      },
      "execution_count": null,
      "outputs": [
        {
          "output_type": "execute_result",
          "data": {
            "text/plain": [
              "array([[1.47692453e-05],\n",
              "       [2.44923541e-03],\n",
              "       [3.63558194e-03],\n",
              "       [9.92708951e-01]])"
            ]
          },
          "metadata": {},
          "execution_count": 45
        }
      ]
    },
    {
      "cell_type": "code",
      "source": [
        "print(\"After the completion of Training :\\n\")\n",
        "z3=predict(X,w1,w2)\n",
        "print(\"Y value predicted: \")\n",
        "print(np.round(z3))\n",
        "print(\"\\n\")\n",
        "plt.plot(costs)\n",
        "plt.ylabel('Error')\n",
        "plt.xlabel('Epochs')\n",
        "plt.show()"
      ],
      "metadata": {
        "colab": {
          "base_uri": "https://localhost:8080/",
          "height": 435
        },
        "id": "pgZD1FqLeozq",
        "outputId": "c93653df-ccfb-4dab-deba-5ed26f8a4420"
      },
      "execution_count": null,
      "outputs": [
        {
          "output_type": "stream",
          "name": "stdout",
          "text": [
            "After the completion of Training :\n",
            "\n",
            "Y value predicted: \n",
            "[[0.]\n",
            " [0.]\n",
            " [0.]\n",
            " [1.]]\n",
            "\n",
            "\n"
          ]
        },
        {
          "output_type": "display_data",
          "data": {
            "image/png": "[encoded data removed]",
            "text/plain": [
              "<Figure size 432x288 with 1 Axes>"
            ]
          },
          "metadata": {
            "needs_background": "light"
          }
        }
      ]
    },
    {
      "cell_type": "code",
      "source": [
        "X_test = np.array([[1,0,0.03],\n",
        " [1,0,0.99],\n",
        " [1,1,0 ],\n",
        " [1,1,0.2]])\n",
        "y_test = np.array([[1.],\n",
        " [0.],\n",
        " [0.],\n",
        " [0.]])\n",
        "\n",
        "test(X_test,y_test)"
      ],
      "metadata": {
        "colab": {
          "base_uri": "https://localhost:8080/"
        },
        "id": "G4Dtbn5_eRdU",
        "outputId": "f15e8980-ab40-41d3-88bb-078daf49001d"
      },
      "execution_count": null,
      "outputs": [
        {
          "output_type": "stream",
          "name": "stdout",
          "text": [
            "Test set is :\n",
            "[[0.   0.03]\n",
            " [0.   0.99]\n",
            " [1.   0.  ]\n",
            " [1.   0.2 ]]\n",
            "\n",
            "Predicted values for Test set are\n",
            "[[0.]\n",
            " [0.]\n",
            " [0.]\n",
            " [0.]]\n",
            "\n",
            " And actual y values for test set are\n",
            "[[1.]\n",
            " [0.]\n",
            " [0.]\n",
            " [0.]]\n"
          ]
        }
      ]
    }
  ]
}